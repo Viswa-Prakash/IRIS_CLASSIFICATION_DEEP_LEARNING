{
 "cells": [
  {
   "cell_type": "code",
   "execution_count": 1,
   "id": "79bf0401",
   "metadata": {},
   "outputs": [],
   "source": [
    "# Import the Libraries\n",
    "\n",
    "import pandas as pd\n",
    "import os\n",
    "import tensorflow as tf\n",
    "import numpy as np\n",
    "\n",
    "from sklearn.model_selection import train_test_split\n",
    "from sklearn.preprocessing import StandardScaler"
   ]
  },
  {
   "cell_type": "code",
   "execution_count": 2,
   "id": "e4198e75",
   "metadata": {},
   "outputs": [],
   "source": [
    "# Load the iris dataset\n",
    "data = pd.read_csv(\"iris.csv\")"
   ]
  },
  {
   "cell_type": "code",
   "execution_count": 3,
   "id": "e79de314",
   "metadata": {},
   "outputs": [
    {
     "data": {
      "text/html": [
       "<div>\n",
       "<style scoped>\n",
       "    .dataframe tbody tr th:only-of-type {\n",
       "        vertical-align: middle;\n",
       "    }\n",
       "\n",
       "    .dataframe tbody tr th {\n",
       "        vertical-align: top;\n",
       "    }\n",
       "\n",
       "    .dataframe thead th {\n",
       "        text-align: right;\n",
       "    }\n",
       "</style>\n",
       "<table border=\"1\" class=\"dataframe\">\n",
       "  <thead>\n",
       "    <tr style=\"text-align: right;\">\n",
       "      <th></th>\n",
       "      <th>Sepal.Length</th>\n",
       "      <th>Sepal.Width</th>\n",
       "      <th>Petal.Length</th>\n",
       "      <th>Petal.Width</th>\n",
       "      <th>Species</th>\n",
       "    </tr>\n",
       "  </thead>\n",
       "  <tbody>\n",
       "    <tr>\n",
       "      <th>0</th>\n",
       "      <td>5.1</td>\n",
       "      <td>3.5</td>\n",
       "      <td>1.4</td>\n",
       "      <td>0.2</td>\n",
       "      <td>setosa</td>\n",
       "    </tr>\n",
       "    <tr>\n",
       "      <th>1</th>\n",
       "      <td>4.9</td>\n",
       "      <td>3.0</td>\n",
       "      <td>1.4</td>\n",
       "      <td>0.2</td>\n",
       "      <td>setosa</td>\n",
       "    </tr>\n",
       "    <tr>\n",
       "      <th>2</th>\n",
       "      <td>4.7</td>\n",
       "      <td>3.2</td>\n",
       "      <td>1.3</td>\n",
       "      <td>0.2</td>\n",
       "      <td>setosa</td>\n",
       "    </tr>\n",
       "    <tr>\n",
       "      <th>3</th>\n",
       "      <td>4.6</td>\n",
       "      <td>3.1</td>\n",
       "      <td>1.5</td>\n",
       "      <td>0.2</td>\n",
       "      <td>setosa</td>\n",
       "    </tr>\n",
       "    <tr>\n",
       "      <th>4</th>\n",
       "      <td>5.0</td>\n",
       "      <td>3.6</td>\n",
       "      <td>1.4</td>\n",
       "      <td>0.2</td>\n",
       "      <td>setosa</td>\n",
       "    </tr>\n",
       "  </tbody>\n",
       "</table>\n",
       "</div>"
      ],
      "text/plain": [
       "   Sepal.Length  Sepal.Width  Petal.Length  Petal.Width Species\n",
       "0           5.1          3.5           1.4          0.2  setosa\n",
       "1           4.9          3.0           1.4          0.2  setosa\n",
       "2           4.7          3.2           1.3          0.2  setosa\n",
       "3           4.6          3.1           1.5          0.2  setosa\n",
       "4           5.0          3.6           1.4          0.2  setosa"
      ]
     },
     "execution_count": 3,
     "metadata": {},
     "output_type": "execute_result"
    }
   ],
   "source": [
    "# Checking the contents of the iris dataset\n",
    "data.head()"
   ]
  },
  {
   "cell_type": "code",
   "execution_count": 4,
   "id": "6742fe32",
   "metadata": {},
   "outputs": [],
   "source": [
    "# Using label encoder to convert string to numeric values for the target variable\n",
    "from sklearn import preprocessing\n",
    "label_encoder = preprocessing.LabelEncoder()\n",
    "data['Species'] = label_encoder.fit_transform(data['Species'])"
   ]
  },
  {
   "cell_type": "code",
   "execution_count": 5,
   "id": "90197b5d",
   "metadata": {},
   "outputs": [],
   "source": [
    "# Converting imput to numpy array\n",
    "np_data = data.to_numpy()"
   ]
  },
  {
   "cell_type": "code",
   "execution_count": 6,
   "id": "2b438312",
   "metadata": {},
   "outputs": [],
   "source": [
    "# Define feature and target variable\n",
    "X_data = np_data[:, 0:4]\n",
    "y_data = np_data[:,4]"
   ]
  },
  {
   "cell_type": "code",
   "execution_count": 7,
   "id": "60547b21",
   "metadata": {},
   "outputs": [
    {
     "name": "stdout",
     "output_type": "stream",
     "text": [
      "[[5.1 3.5 1.4 0.2]\n",
      " [4.9 3.  1.4 0.2]\n",
      " [4.7 3.2 1.3 0.2]\n",
      " [4.6 3.1 1.5 0.2]\n",
      " [5.  3.6 1.4 0.2]]\n"
     ]
    }
   ],
   "source": [
    "print(X_data[:5,:])"
   ]
  },
  {
   "cell_type": "code",
   "execution_count": 8,
   "id": "92990d53",
   "metadata": {},
   "outputs": [
    {
     "name": "stdout",
     "output_type": "stream",
     "text": [
      "[0. 0. 0. 0. 0.]\n"
     ]
    }
   ],
   "source": [
    "print(y_data[:5])"
   ]
  },
  {
   "cell_type": "code",
   "execution_count": 9,
   "id": "e8741f50",
   "metadata": {},
   "outputs": [],
   "source": [
    "# Scaling the data\n",
    "sc = StandardScaler()\n",
    "X_data = sc.fit_transform(X_data)"
   ]
  },
  {
   "cell_type": "code",
   "execution_count": 10,
   "id": "baeb7464",
   "metadata": {},
   "outputs": [],
   "source": [
    "# Convert target variable as a one-hot-encoding array\n",
    "y_data = tf.keras.utils.to_categorical(y_data,3)"
   ]
  },
  {
   "cell_type": "code",
   "execution_count": 11,
   "id": "0952b4db",
   "metadata": {},
   "outputs": [
    {
     "name": "stdout",
     "output_type": "stream",
     "text": [
      "[[-0.90068117  1.01900435 -1.34022653 -1.3154443 ]\n",
      " [-1.14301691 -0.13197948 -1.34022653 -1.3154443 ]\n",
      " [-1.38535265  0.32841405 -1.39706395 -1.3154443 ]\n",
      " [-1.50652052  0.09821729 -1.2833891  -1.3154443 ]\n",
      " [-1.02184904  1.24920112 -1.34022653 -1.3154443 ]]\n"
     ]
    }
   ],
   "source": [
    "print(X_data[:5,:])"
   ]
  },
  {
   "cell_type": "code",
   "execution_count": 12,
   "id": "af67a8da",
   "metadata": {},
   "outputs": [
    {
     "name": "stdout",
     "output_type": "stream",
     "text": [
      "[[1. 0. 0.]\n",
      " [1. 0. 0.]\n",
      " [1. 0. 0.]\n",
      " [1. 0. 0.]\n",
      " [1. 0. 0.]]\n"
     ]
    }
   ],
   "source": [
    "print(y_data[:5])"
   ]
  },
  {
   "cell_type": "code",
   "execution_count": 13,
   "id": "3b33127e",
   "metadata": {},
   "outputs": [],
   "source": [
    "# Spliting into train and test data\n",
    "X_train, X_test, y_train, y_test = train_test_split(X_data, y_data, test_size=0.2)"
   ]
  },
  {
   "cell_type": "code",
   "execution_count": 14,
   "id": "88e65190",
   "metadata": {},
   "outputs": [
    {
     "name": "stdout",
     "output_type": "stream",
     "text": [
      "(120, 4) (30, 4) (120, 3) (30, 3)\n"
     ]
    }
   ],
   "source": [
    "# Checking the shape of the train and test data\n",
    "\n",
    "print(X_train.shape, X_test.shape, y_train.shape, y_test.shape)"
   ]
  },
  {
   "cell_type": "code",
   "execution_count": 15,
   "id": "033c3215",
   "metadata": {},
   "outputs": [],
   "source": [
    "# Building the model\n",
    "\n",
    "from tensorflow import keras\n",
    "\n",
    "# number of classes in the target variable\n",
    "n_classes = 3\n",
    "\n",
    "# Create a sequential model in Keras\n",
    "model = tf.keras.models.Sequential()\n",
    "\n",
    "# Add the first hidden layer\n",
    "model.add(keras.layers.Dense(128,                       # number of nodes\n",
    "                             input_shape = (4,),        # number of input variables\n",
    "                             name = 'Hidden-Layer-1',   # logical name\n",
    "                             activation = 'relu'))      # activation function\n",
    "\n",
    "# Add a second hidden layer\n",
    "model.add(keras.layers.Dense(128,                       # number of nodes\n",
    "                             name = 'Hidden-Layer-2',   # logical name\n",
    "                             activation = 'relu'))      # activation function\n",
    "\n",
    "# Add output layer\n",
    "model.add(keras.layers.Dense(n_classes,\n",
    "                             name = 'Output-Layer',\n",
    "                             activation = 'softmax'))"
   ]
  },
  {
   "cell_type": "code",
   "execution_count": 16,
   "id": "98239446",
   "metadata": {},
   "outputs": [
    {
     "name": "stdout",
     "output_type": "stream",
     "text": [
      "Model: \"sequential\"\n",
      "_________________________________________________________________\n",
      " Layer (type)                Output Shape              Param #   \n",
      "=================================================================\n",
      " Hidden-Layer-1 (Dense)      (None, 128)               640       \n",
      "                                                                 \n",
      " Hidden-Layer-2 (Dense)      (None, 128)               16512     \n",
      "                                                                 \n",
      " Output-Layer (Dense)        (None, 3)                 387       \n",
      "                                                                 \n",
      "=================================================================\n",
      "Total params: 17,539\n",
      "Trainable params: 17,539\n",
      "Non-trainable params: 0\n",
      "_________________________________________________________________\n"
     ]
    }
   ],
   "source": [
    "# Compile the model \n",
    "model.compile(loss='categorical_crossentropy',\n",
    "             metrics=['accuracy'])\n",
    "\n",
    "model.summary()"
   ]
  },
  {
   "cell_type": "code",
   "execution_count": 17,
   "id": "9b2ca0d2",
   "metadata": {},
   "outputs": [
    {
     "name": "stdout",
     "output_type": "stream",
     "text": [
      "Epoch 1/10\n",
      "6/6 [==============================] - 1s 51ms/step - loss: 0.8342 - accuracy: 0.6562 - val_loss: 0.6423 - val_accuracy: 0.7917\n",
      "Epoch 2/10\n",
      "6/6 [==============================] - 0s 13ms/step - loss: 0.5543 - accuracy: 0.7604 - val_loss: 0.4988 - val_accuracy: 0.8333\n",
      "Epoch 3/10\n",
      "6/6 [==============================] - 0s 10ms/step - loss: 0.4478 - accuracy: 0.8125 - val_loss: 0.4099 - val_accuracy: 0.9167\n",
      "Epoch 4/10\n",
      "6/6 [==============================] - 0s 10ms/step - loss: 0.3869 - accuracy: 0.8229 - val_loss: 0.3455 - val_accuracy: 0.9167\n",
      "Epoch 5/10\n",
      "6/6 [==============================] - 0s 10ms/step - loss: 0.3458 - accuracy: 0.8542 - val_loss: 0.3045 - val_accuracy: 0.9167\n",
      "Epoch 6/10\n",
      "6/6 [==============================] - 0s 13ms/step - loss: 0.3117 - accuracy: 0.8646 - val_loss: 0.2573 - val_accuracy: 0.9583\n",
      "Epoch 7/10\n",
      "6/6 [==============================] - 0s 11ms/step - loss: 0.2860 - accuracy: 0.8854 - val_loss: 0.2269 - val_accuracy: 0.9583\n",
      "Epoch 8/10\n",
      "6/6 [==============================] - 0s 10ms/step - loss: 0.2622 - accuracy: 0.9062 - val_loss: 0.2011 - val_accuracy: 0.9583\n",
      "Epoch 9/10\n",
      "6/6 [==============================] - 0s 10ms/step - loss: 0.2428 - accuracy: 0.9062 - val_loss: 0.2001 - val_accuracy: 0.9167\n",
      "Epoch 10/10\n",
      "6/6 [==============================] - 0s 11ms/step - loss: 0.2340 - accuracy: 0.8854 - val_loss: 0.1805 - val_accuracy: 0.9167\n"
     ]
    }
   ],
   "source": [
    "# Training and evaluating the model\n",
    "# To see the progress\n",
    "VERBOSE = 1\n",
    "\n",
    "# setup hyperparameter for training\n",
    "\n",
    "# set batch size\n",
    "BATCH_SIZE = 16\n",
    "\n",
    "# set number of epochs\n",
    "EPOCHS = 10\n",
    "\n",
    "# set validation split. 20% of the training data will be used for validation after each epoch\n",
    "VALIDATION_SPILT = 0.2\n",
    "\n",
    "# fit the model. This will perform the entire training cycle, including forward propagation. loass computation, backward \n",
    "# propagation and gradient descent.\n",
    "# Execute for the specified batch size and epoch\n",
    "# perform validation after each epoch\n",
    "\n",
    "history = model.fit(X_train, y_train, \n",
    "                    batch_size=BATCH_SIZE, \n",
    "                    epochs=EPOCHS,\n",
    "                   verbose=VERBOSE,\n",
    "                   validation_split=VALIDATION_SPILT)"
   ]
  },
  {
   "cell_type": "code",
   "execution_count": 18,
   "id": "359bec7b",
   "metadata": {},
   "outputs": [],
   "source": [
    "import matplotlib.pyplot as plt"
   ]
  },
  {
   "cell_type": "code",
   "execution_count": 19,
   "id": "97ca8456",
   "metadata": {},
   "outputs": [
    {
     "data": {
      "image/png": "[encoded data removed]",
      "text/plain": [
       "<Figure size 576x360 with 1 Axes>"
      ]
     },
     "metadata": {
      "needs_background": "light"
     },
     "output_type": "display_data"
    }
   ],
   "source": [
    "# Plot accuracy of the model after each epoch\n",
    "pd.DataFrame(history.history)['accuracy'].plot(figsize = (8,5))\n",
    "plt.title('Accuracy improvement with Epoch')\n",
    "plt.show()"
   ]
  },
  {
   "cell_type": "code",
   "execution_count": 20,
   "id": "19c56ecb",
   "metadata": {},
   "outputs": [
    {
     "name": "stdout",
     "output_type": "stream",
     "text": [
      "1/1 [==============================] - 0s 33ms/step - loss: 0.3659 - accuracy: 0.7667\n"
     ]
    },
    {
     "data": {
      "text/plain": [
       "[0.365898996591568, 0.7666666507720947]"
      ]
     },
     "execution_count": 20,
     "metadata": {},
     "output_type": "execute_result"
    }
   ],
   "source": [
    "# Evaluate the model against the test dataset\n",
    "model.evaluate(X_test,y_test)"
   ]
  },
  {
   "cell_type": "code",
   "execution_count": 21,
   "id": "e8f41831",
   "metadata": {},
   "outputs": [
    {
     "name": "stderr",
     "output_type": "stream",
     "text": [
      "WARNING:absl:Function `_wrapped_model` contains input name(s) Hidden-Layer-1_input with unsupported characters which will be renamed to hidden_layer_1_input in the SavedModel.\n",
      "WARNING:absl:`Hidden-Layer-1_input` is not a valid tf.function parameter name. Sanitizing to `Hidden_Layer_1_input`.\n",
      "WARNING:absl:`Hidden-Layer-1_input` is not a valid tf.function parameter name. Sanitizing to `Hidden_Layer_1_input`.\n",
      "WARNING:absl:`Hidden-Layer-1_input` is not a valid tf.function parameter name. Sanitizing to `Hidden_Layer_1_input`.\n",
      "WARNING:absl:Found untraced functions such as _update_step_xla while saving (showing 1 of 1). These functions will not be directly callable after loading.\n"
     ]
    },
    {
     "name": "stdout",
     "output_type": "stream",
     "text": [
      "INFO:tensorflow:Assets written to: iris_save\\assets\n"
     ]
    },
    {
     "name": "stderr",
     "output_type": "stream",
     "text": [
      "INFO:tensorflow:Assets written to: iris_save\\assets\n"
     ]
    },
    {
     "name": "stdout",
     "output_type": "stream",
     "text": [
      "Model: \"sequential\"\n",
      "_________________________________________________________________\n",
      " Layer (type)                Output Shape              Param #   \n",
      "=================================================================\n",
      " Hidden-Layer-1 (Dense)      (None, 128)               640       \n",
      "                                                                 \n",
      " Hidden-Layer-2 (Dense)      (None, 128)               16512     \n",
      "                                                                 \n",
      " Output-Layer (Dense)        (None, 3)                 387       \n",
      "                                                                 \n",
      "=================================================================\n",
      "Total params: 17,539\n",
      "Trainable params: 17,539\n",
      "Non-trainable params: 0\n",
      "_________________________________________________________________\n"
     ]
    }
   ],
   "source": [
    "# Saving and Loading model\n",
    "\n",
    "model.save('iris_save')\n",
    "\n",
    "loaded_model = keras.models.load_model('iris_save')\n",
    "\n",
    "loaded_model.summary()"
   ]
  },
  {
   "cell_type": "code",
   "execution_count": 22,
   "id": "ccccdc10",
   "metadata": {},
   "outputs": [
    {
     "name": "stdout",
     "output_type": "stream",
     "text": [
      "1/1 [==============================] - 0s 84ms/step\n",
      "Raw Prediction output:  [[0.02298443 0.5839853  0.39303026]]\n",
      "Prediction is ['versicolor']\n"
     ]
    }
   ],
   "source": [
    "# Prediction \n",
    "\n",
    "# Raw prediction data\n",
    "prediction_input = [[6.6, 3., 4.4, 1.4]]\n",
    "\n",
    "#Scale prediction data with the same scaling model\n",
    "scaled_input = sc.transform(prediction_input)\n",
    "\n",
    "# Get raw prediction \n",
    "raw_prediction = model.predict(scaled_input)\n",
    "print(\"Raw Prediction output: \", raw_prediction)\n",
    "\n",
    "# prediction\n",
    "prediction = np.argmax(raw_prediction)\n",
    "print(\"Prediction is\", label_encoder.inverse_transform([prediction]))"
   ]
  },
  {
   "cell_type": "code",
   "execution_count": null,
   "id": "00162bb9",
   "metadata": {},
   "outputs": [],
   "source": []
  }
 ],
 "metadata": {
  "kernelspec": {
   "display_name": "Python 3 (ipykernel)",
   "language": "python",
   "name": "python3"
  },
  "language_info": {
   "codemirror_mode": {
    "name": "ipython",
    "version": 3
   },
   "file_extension": ".py",
   "mimetype": "text/x-python",
   "name": "python",
   "nbconvert_exporter": "python",
   "pygments_lexer": "ipython3",
   "version": "3.9.7"
  }
 },
 "nbformat": 4,
 "nbformat_minor": 5
}
